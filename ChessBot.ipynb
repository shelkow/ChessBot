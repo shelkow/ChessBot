{
  "nbformat": 4,
  "nbformat_minor": 0,
  "metadata": {
    "colab": {
      "provenance": []
    },
    "kernelspec": {
      "name": "python3",
      "display_name": "Python 3"
    },
    "language_info": {
      "name": "python"
    }
  },
  "cells": [
    {
      "cell_type": "code",
      "source": [
        "from telegram import Update\n",
        "from telegram.ext import Updater, CommandHandler, MessageHandler, Filters, CallbackContext\n",
        "import chess\n",
        "import chess.svg\n",
        "import cairosvg\n",
        "from io import BytesIO\n",
        "\n",
        "# Храним шахматные доски по chat_id\n",
        "games = {}\n",
        "\n",
        "def handle_move(update: Update, context: CallbackContext):\n",
        "    chat_id = update.effective_chat.id\n",
        "    text = update.message.text.strip()\n",
        "\n",
        "    # Если партии нет — создаём новую\n",
        "    if chat_id not in games:\n",
        "        games[chat_id] = chess.Board()\n",
        "\n",
        "    board = games[chat_id]\n",
        "\n",
        "    if board.is_game_over():\n",
        "        result = board.result()\n",
        "        update.message.reply_text(f\"♟ Игра окончена. Результат: {result}. Напишите /new для новой партии.\")\n",
        "        return\n",
        "\n",
        "    # Приводим текст к правильному виду (фигуры с заглавной буквы)\n",
        "    figures = ['k', 'q', 'r', 'b', 'n']\n",
        "    if text and text[0].lower() in figures:\n",
        "        san = text[0].upper() + text[1:]\n",
        "    else:\n",
        "        san = text.lower()  # пешки и рокировка\n",
        "\n",
        "    try:\n",
        "        move = board.parse_san(san)\n",
        "        board.push(move)\n",
        "    except ValueError:\n",
        "        update.message.reply_text(\"❌ Неверный ход. Пример: e4, nf3, Bb5, Qxd5, O-O\")\n",
        "        return\n",
        "\n",
        "    # Определяем, чей следующий ход\n",
        "    side = \"♙ Белые\" if board.turn == chess.WHITE else \"♟ Чёрные\"\n",
        "\n",
        "    # Генерируем изображение доски\n",
        "    svg_data = chess.svg.board(board=board)\n",
        "    png_data = cairosvg.svg2png(bytestring=svg_data)\n",
        "\n",
        "    bio = BytesIO(png_data)\n",
        "    bio.name = \"board.png\"\n",
        "    bio.seek(0)\n",
        "\n",
        "    # Отправляем картинку доски с подписью\n",
        "    context.bot.send_photo(chat_id=chat_id, photo=bio, caption=f\"Следующий ход: {side}\")\n",
        "\n",
        "def new_game(update: Update, context: CallbackContext):\n",
        "    chat_id = update.effective_chat.id\n",
        "    games[chat_id] = chess.Board()\n",
        "    board = games[chat_id]\n",
        "\n",
        "    # Генерируем изображение начальной доски\n",
        "    svg_data = chess.svg.board(board=board)\n",
        "    png_data = cairosvg.svg2png(bytestring=svg_data)\n",
        "\n",
        "    bio = BytesIO(png_data)\n",
        "    bio.name = \"board.png\"\n",
        "    bio.seek(0)\n",
        "\n",
        "    # Отправляем изображение доски с сообщением\n",
        "    context.bot.send_photo(chat_id=chat_id, photo=bio, caption=\"♟ Новая партия начата. Ходят белые.\")\n",
        "\n",
        "def main():\n",
        "    TOKEN = ''\n",
        "    updater = Updater(TOKEN, use_context=True)\n",
        "    dp = updater.dispatcher\n",
        "\n",
        "    dp.add_handler(CommandHandler('new', new_game))  # обработка команды /new\n",
        "    dp.add_handler(MessageHandler(Filters.text & ~Filters.command, handle_move))  # обработка ходов\n",
        "\n",
        "    updater.start_polling()\n",
        "    print(\"✅ Бот запущен.\")\n",
        "    updater.idle()\n",
        "\n",
        "if __name__ == '__main__':\n",
        "    main()\n"
      ],
      "metadata": {
        "id": "N-Jc8_g9rRxX",
        "colab": {
          "base_uri": "https://localhost:8080/",
          "height": 321
        },
        "outputId": "7b9e5395-d0f9-4343-b247-81ab3fa39b9b"
      },
      "execution_count": null,
      "outputs": [
        {
          "output_type": "error",
          "ename": "InvalidToken",
          "evalue": "Invalid token",
          "traceback": [
            "\u001b[0;31m---------------------------------------------------------------------------\u001b[0m",
            "\u001b[0;31mInvalidToken\u001b[0m                              Traceback (most recent call last)",
            "\u001b[0;32m<ipython-input-7-5cf044b443d9>\u001b[0m in \u001b[0;36m<cell line: 0>\u001b[0;34m()\u001b[0m\n\u001b[1;32m     81\u001b[0m \u001b[0;34m\u001b[0m\u001b[0m\n\u001b[1;32m     82\u001b[0m \u001b[0;32mif\u001b[0m \u001b[0m__name__\u001b[0m \u001b[0;34m==\u001b[0m \u001b[0;34m'__main__'\u001b[0m\u001b[0;34m:\u001b[0m\u001b[0;34m\u001b[0m\u001b[0;34m\u001b[0m\u001b[0m\n\u001b[0;32m---> 83\u001b[0;31m     \u001b[0mmain\u001b[0m\u001b[0;34m(\u001b[0m\u001b[0;34m)\u001b[0m\u001b[0;34m\u001b[0m\u001b[0;34m\u001b[0m\u001b[0m\n\u001b[0m",
            "\u001b[0;32m<ipython-input-7-5cf044b443d9>\u001b[0m in \u001b[0;36mmain\u001b[0;34m()\u001b[0m\n\u001b[1;32m     70\u001b[0m \u001b[0;32mdef\u001b[0m \u001b[0mmain\u001b[0m\u001b[0;34m(\u001b[0m\u001b[0;34m)\u001b[0m\u001b[0;34m:\u001b[0m\u001b[0;34m\u001b[0m\u001b[0;34m\u001b[0m\u001b[0m\n\u001b[1;32m     71\u001b[0m     \u001b[0mTOKEN\u001b[0m \u001b[0;34m=\u001b[0m \u001b[0;34m''\u001b[0m\u001b[0;34m\u001b[0m\u001b[0;34m\u001b[0m\u001b[0m\n\u001b[0;32m---> 72\u001b[0;31m     \u001b[0mupdater\u001b[0m \u001b[0;34m=\u001b[0m \u001b[0mUpdater\u001b[0m\u001b[0;34m(\u001b[0m\u001b[0mTOKEN\u001b[0m\u001b[0;34m,\u001b[0m \u001b[0muse_context\u001b[0m\u001b[0;34m=\u001b[0m\u001b[0;32mTrue\u001b[0m\u001b[0;34m)\u001b[0m\u001b[0;34m\u001b[0m\u001b[0;34m\u001b[0m\u001b[0m\n\u001b[0m\u001b[1;32m     73\u001b[0m     \u001b[0mdp\u001b[0m \u001b[0;34m=\u001b[0m \u001b[0mupdater\u001b[0m\u001b[0;34m.\u001b[0m\u001b[0mdispatcher\u001b[0m\u001b[0;34m\u001b[0m\u001b[0;34m\u001b[0m\u001b[0m\n\u001b[1;32m     74\u001b[0m \u001b[0;34m\u001b[0m\u001b[0m\n",
            "\u001b[0;32m/usr/local/lib/python3.11/dist-packages/telegram/ext/updater.py\u001b[0m in \u001b[0;36m__init__\u001b[0;34m(self, token, base_url, workers, bot, private_key, private_key_password, user_sig_handler, request_kwargs, persistence, defaults, use_context, dispatcher, base_file_url, arbitrary_callback_data, context_types)\u001b[0m\n\u001b[1;32m    277\u001b[0m                     \u001b[0mrequest_kwargs\u001b[0m\u001b[0;34m[\u001b[0m\u001b[0;34m'con_pool_size'\u001b[0m\u001b[0;34m]\u001b[0m \u001b[0;34m=\u001b[0m \u001b[0mcon_pool_size\u001b[0m\u001b[0;34m\u001b[0m\u001b[0;34m\u001b[0m\u001b[0m\n\u001b[1;32m    278\u001b[0m                 \u001b[0mself\u001b[0m\u001b[0;34m.\u001b[0m\u001b[0m_request\u001b[0m \u001b[0;34m=\u001b[0m \u001b[0mRequest\u001b[0m\u001b[0;34m(\u001b[0m\u001b[0;34m**\u001b[0m\u001b[0mrequest_kwargs\u001b[0m\u001b[0;34m)\u001b[0m\u001b[0;34m\u001b[0m\u001b[0;34m\u001b[0m\u001b[0m\n\u001b[0;32m--> 279\u001b[0;31m                 self.bot = ExtBot(\n\u001b[0m\u001b[1;32m    280\u001b[0m                     \u001b[0mtoken\u001b[0m\u001b[0;34m,\u001b[0m  \u001b[0;31m# type: ignore[arg-type]\u001b[0m\u001b[0;34m\u001b[0m\u001b[0;34m\u001b[0m\u001b[0m\n\u001b[1;32m    281\u001b[0m                     \u001b[0mbase_url\u001b[0m\u001b[0;34m,\u001b[0m\u001b[0;34m\u001b[0m\u001b[0;34m\u001b[0m\u001b[0m\n",
            "\u001b[0;32m/usr/local/lib/python3.11/dist-packages/telegram/ext/extbot.py\u001b[0m in \u001b[0;36m__init__\u001b[0;34m(self, token, base_url, base_file_url, request, private_key, private_key_password, defaults, arbitrary_callback_data)\u001b[0m\n\u001b[1;32m     97\u001b[0m         \u001b[0marbitrary_callback_data\u001b[0m\u001b[0;34m:\u001b[0m \u001b[0mUnion\u001b[0m\u001b[0;34m[\u001b[0m\u001b[0mbool\u001b[0m\u001b[0;34m,\u001b[0m \u001b[0mint\u001b[0m\u001b[0;34m]\u001b[0m \u001b[0;34m=\u001b[0m \u001b[0;32mFalse\u001b[0m\u001b[0;34m,\u001b[0m\u001b[0;34m\u001b[0m\u001b[0;34m\u001b[0m\u001b[0m\n\u001b[1;32m     98\u001b[0m     ):\n\u001b[0;32m---> 99\u001b[0;31m         super().__init__(\n\u001b[0m\u001b[1;32m    100\u001b[0m             \u001b[0mtoken\u001b[0m\u001b[0;34m=\u001b[0m\u001b[0mtoken\u001b[0m\u001b[0;34m,\u001b[0m\u001b[0;34m\u001b[0m\u001b[0;34m\u001b[0m\u001b[0m\n\u001b[1;32m    101\u001b[0m             \u001b[0mbase_url\u001b[0m\u001b[0;34m=\u001b[0m\u001b[0mbase_url\u001b[0m\u001b[0;34m,\u001b[0m\u001b[0;34m\u001b[0m\u001b[0;34m\u001b[0m\u001b[0m\n",
            "\u001b[0;32m/usr/local/lib/python3.11/dist-packages/telegram/bot.py\u001b[0m in \u001b[0;36m__init__\u001b[0;34m(self, token, base_url, base_file_url, request, private_key, private_key_password, defaults)\u001b[0m\n\u001b[1;32m    193\u001b[0m         \u001b[0mdefaults\u001b[0m\u001b[0;34m:\u001b[0m \u001b[0;34m'Defaults'\u001b[0m \u001b[0;34m=\u001b[0m \u001b[0;32mNone\u001b[0m\u001b[0;34m,\u001b[0m\u001b[0;34m\u001b[0m\u001b[0;34m\u001b[0m\u001b[0m\n\u001b[1;32m    194\u001b[0m     ):\n\u001b[0;32m--> 195\u001b[0;31m         \u001b[0mself\u001b[0m\u001b[0;34m.\u001b[0m\u001b[0mtoken\u001b[0m \u001b[0;34m=\u001b[0m \u001b[0mself\u001b[0m\u001b[0;34m.\u001b[0m\u001b[0m_validate_token\u001b[0m\u001b[0;34m(\u001b[0m\u001b[0mtoken\u001b[0m\u001b[0;34m)\u001b[0m\u001b[0;34m\u001b[0m\u001b[0;34m\u001b[0m\u001b[0m\n\u001b[0m\u001b[1;32m    196\u001b[0m \u001b[0;34m\u001b[0m\u001b[0m\n\u001b[1;32m    197\u001b[0m         \u001b[0;31m# Gather default\u001b[0m\u001b[0;34m\u001b[0m\u001b[0;34m\u001b[0m\u001b[0m\n",
            "\u001b[0;32m/usr/local/lib/python3.11/dist-packages/telegram/bot.py\u001b[0m in \u001b[0;36m_validate_token\u001b[0;34m(token)\u001b[0m\n\u001b[1;32m    361\u001b[0m         \u001b[0mleft\u001b[0m\u001b[0;34m,\u001b[0m \u001b[0msep\u001b[0m\u001b[0;34m,\u001b[0m \u001b[0m_right\u001b[0m \u001b[0;34m=\u001b[0m \u001b[0mtoken\u001b[0m\u001b[0;34m.\u001b[0m\u001b[0mpartition\u001b[0m\u001b[0;34m(\u001b[0m\u001b[0;34m':'\u001b[0m\u001b[0;34m)\u001b[0m\u001b[0;34m\u001b[0m\u001b[0;34m\u001b[0m\u001b[0m\n\u001b[1;32m    362\u001b[0m         \u001b[0;32mif\u001b[0m \u001b[0;34m(\u001b[0m\u001b[0;32mnot\u001b[0m \u001b[0msep\u001b[0m\u001b[0;34m)\u001b[0m \u001b[0;32mor\u001b[0m \u001b[0;34m(\u001b[0m\u001b[0;32mnot\u001b[0m \u001b[0mleft\u001b[0m\u001b[0;34m.\u001b[0m\u001b[0misdigit\u001b[0m\u001b[0;34m(\u001b[0m\u001b[0;34m)\u001b[0m\u001b[0;34m)\u001b[0m \u001b[0;32mor\u001b[0m \u001b[0;34m(\u001b[0m\u001b[0mlen\u001b[0m\u001b[0;34m(\u001b[0m\u001b[0mleft\u001b[0m\u001b[0;34m)\u001b[0m \u001b[0;34m<\u001b[0m \u001b[0;36m3\u001b[0m\u001b[0;34m)\u001b[0m\u001b[0;34m:\u001b[0m\u001b[0;34m\u001b[0m\u001b[0;34m\u001b[0m\u001b[0m\n\u001b[0;32m--> 363\u001b[0;31m             \u001b[0;32mraise\u001b[0m \u001b[0mInvalidToken\u001b[0m\u001b[0;34m(\u001b[0m\u001b[0;34m)\u001b[0m\u001b[0;34m\u001b[0m\u001b[0;34m\u001b[0m\u001b[0m\n\u001b[0m\u001b[1;32m    364\u001b[0m \u001b[0;34m\u001b[0m\u001b[0m\n\u001b[1;32m    365\u001b[0m         \u001b[0;32mreturn\u001b[0m \u001b[0mtoken\u001b[0m\u001b[0;34m\u001b[0m\u001b[0;34m\u001b[0m\u001b[0m\n",
            "\u001b[0;31mInvalidToken\u001b[0m: Invalid token"
          ]
        }
      ]
    }
  ]
}